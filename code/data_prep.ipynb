{
 "cells": [
  {
   "cell_type": "code",
   "execution_count": 4,
   "id": "71e7b7fc-b36f-4ffd-b9de-68d9fc30c0c4",
   "metadata": {},
   "outputs": [],
   "source": [
    "import os"
   ]
  },
  {
   "cell_type": "code",
   "execution_count": 5,
   "id": "9b7eacc1-0fdd-42d5-ae06-7ad93eea141b",
   "metadata": {},
   "outputs": [],
   "source": [
    "data_dir = '../data/images/'\n",
    "annot_dir = '../data/labels/'"
   ]
  },
  {
   "cell_type": "code",
   "execution_count": 6,
   "id": "4548a819-ef59-47a6-a701-c2dc8ca4118f",
   "metadata": {},
   "outputs": [],
   "source": [
    "imgs = os.listdir(data_dir)\n",
    "labels = os.listdir(annot_dir)\n",
    "imgs.sort()\n",
    "labels.sort()"
   ]
  },
  {
   "cell_type": "code",
   "execution_count": 7,
   "id": "a3e41543-66ad-418e-9138-48910da8fe92",
   "metadata": {},
   "outputs": [],
   "source": [
    "for img, label in zip(imgs, labels):\n",
    "    if img[:-4] != label[:-4]:\n",
    "        print(img, label)"
   ]
  },
  {
   "cell_type": "code",
   "execution_count": 8,
   "id": "af763cc7-548f-46b1-9232-5b1c41134d9a",
   "metadata": {},
   "outputs": [],
   "source": [
    "import numpy as np"
   ]
  },
  {
   "cell_type": "code",
   "execution_count": 9,
   "id": "1ece14e9-dee0-4027-9125-1f05087d3800",
   "metadata": {},
   "outputs": [
    {
     "name": "stdout",
     "output_type": "stream",
     "text": [
      "/usr/bin/zsh: /home/nashirj/miniconda3/lib/libtinfo.so.6: no version information available (required by /usr/bin/zsh)\n",
      "mkdir: cannot create directory ‘../data/train_imgs’: File exists\n"
     ]
    }
   ],
   "source": [
    "train_img_dir = '../data/train_imgs'\n",
    "!mkdir {train_img_dir}"
   ]
  },
  {
   "cell_type": "code",
   "execution_count": 10,
   "id": "03ed0e41-f5b2-4cae-be89-375c7efc85dd",
   "metadata": {},
   "outputs": [
    {
     "name": "stdout",
     "output_type": "stream",
     "text": [
      "/usr/bin/zsh: /home/nashirj/miniconda3/lib/libtinfo.so.6: no version information available (required by /usr/bin/zsh)\n",
      "mkdir: cannot create directory ‘../data/test_imgs’: File exists\n"
     ]
    }
   ],
   "source": [
    "test_img_dir = '../data/test_imgs'\n",
    "!mkdir {test_img_dir}"
   ]
  },
  {
   "cell_type": "code",
   "execution_count": 11,
   "id": "8c8915de-e47a-4bea-aaae-963e810c7f17",
   "metadata": {},
   "outputs": [
    {
     "name": "stdout",
     "output_type": "stream",
     "text": [
      "/usr/bin/zsh: /home/nashirj/miniconda3/lib/libtinfo.so.6: no version information available (required by /usr/bin/zsh)\n",
      "mkdir: cannot create directory ‘../data/train_labels’: File exists\n"
     ]
    }
   ],
   "source": [
    "train_label_dir = '../data/train_labels'\n",
    "!mkdir {train_label_dir}"
   ]
  },
  {
   "cell_type": "code",
   "execution_count": 12,
   "id": "93a1a2f0-c240-4a53-826a-34386b692130",
   "metadata": {},
   "outputs": [
    {
     "name": "stdout",
     "output_type": "stream",
     "text": [
      "/usr/bin/zsh: /home/nashirj/miniconda3/lib/libtinfo.so.6: no version information available (required by /usr/bin/zsh)\n",
      "mkdir: cannot create directory ‘../data/test_labels’: File exists\n"
     ]
    }
   ],
   "source": [
    "test_label_dir = '../data/test_labels'\n",
    "!mkdir {test_label_dir}"
   ]
  },
  {
   "cell_type": "code",
   "execution_count": 18,
   "id": "85f52a77-d15b-4109-bdbb-72dbdae23935",
   "metadata": {},
   "outputs": [],
   "source": [
    "# For reproducibility, make same data split\n",
    "np.random.seed(0)\n",
    "probs = np.random.rand(len(imgs))"
   ]
  },
  {
   "cell_type": "code",
   "execution_count": 19,
   "id": "31f316de-73fe-4880-8e3a-6a137a6df608",
   "metadata": {
    "collapsed": true,
    "jupyter": {
     "outputs_hidden": true
    },
    "tags": []
   },
   "outputs": [
    {
     "name": "stdout",
     "output_type": "stream",
     "text": [
      "/usr/bin/zsh: /home/nashirj/miniconda3/lib/libtinfo.so.6: no version information available (required by /usr/bin/zsh)\n",
      "/usr/bin/zsh: /home/nashirj/miniconda3/lib/libtinfo.so.6: no version information available (required by /usr/bin/zsh)\n",
      "/usr/bin/zsh: /home/nashirj/miniconda3/lib/libtinfo.so.6: no version information available (required by /usr/bin/zsh)\n",
      "/usr/bin/zsh: /home/nashirj/miniconda3/lib/libtinfo.so.6: no version information available (required by /usr/bin/zsh)\n",
      "/usr/bin/zsh: /home/nashirj/miniconda3/lib/libtinfo.so.6: no version information available (required by /usr/bin/zsh)\n",
      "/usr/bin/zsh: /home/nashirj/miniconda3/lib/libtinfo.so.6: no version information available (required by /usr/bin/zsh)\n",
      "/usr/bin/zsh: /home/nashirj/miniconda3/lib/libtinfo.so.6: no version information available (required by /usr/bin/zsh)\n",
      "/usr/bin/zsh: /home/nashirj/miniconda3/lib/libtinfo.so.6: no version information available (required by /usr/bin/zsh)\n",
      "/usr/bin/zsh: /home/nashirj/miniconda3/lib/libtinfo.so.6: no version information available (required by /usr/bin/zsh)\n",
      "/usr/bin/zsh: /home/nashirj/miniconda3/lib/libtinfo.so.6: no version information available (required by /usr/bin/zsh)\n",
      "/usr/bin/zsh: /home/nashirj/miniconda3/lib/libtinfo.so.6: no version information available (required by /usr/bin/zsh)\n",
      "/usr/bin/zsh: /home/nashirj/miniconda3/lib/libtinfo.so.6: no version information available (required by /usr/bin/zsh)\n",
      "/usr/bin/zsh: /home/nashirj/miniconda3/lib/libtinfo.so.6: no version information available (required by /usr/bin/zsh)\n",
      "/usr/bin/zsh: /home/nashirj/miniconda3/lib/libtinfo.so.6: no version information available (required by /usr/bin/zsh)\n",
      "/usr/bin/zsh: /home/nashirj/miniconda3/lib/libtinfo.so.6: no version information available (required by /usr/bin/zsh)\n",
      "/usr/bin/zsh: /home/nashirj/miniconda3/lib/libtinfo.so.6: no version information available (required by /usr/bin/zsh)\n",
      "/usr/bin/zsh: /home/nashirj/miniconda3/lib/libtinfo.so.6: no version information available (required by /usr/bin/zsh)\n",
      "/usr/bin/zsh: /home/nashirj/miniconda3/lib/libtinfo.so.6: no version information available (required by /usr/bin/zsh)\n",
      "/usr/bin/zsh: /home/nashirj/miniconda3/lib/libtinfo.so.6: no version information available (required by /usr/bin/zsh)\n",
      "/usr/bin/zsh: /home/nashirj/miniconda3/lib/libtinfo.so.6: no version information available (required by /usr/bin/zsh)\n",
      "/usr/bin/zsh: /home/nashirj/miniconda3/lib/libtinfo.so.6: no version information available (required by /usr/bin/zsh)\n",
      "/usr/bin/zsh: /home/nashirj/miniconda3/lib/libtinfo.so.6: no version information available (required by /usr/bin/zsh)\n",
      "/usr/bin/zsh: /home/nashirj/miniconda3/lib/libtinfo.so.6: no version information available (required by /usr/bin/zsh)\n",
      "/usr/bin/zsh: /home/nashirj/miniconda3/lib/libtinfo.so.6: no version information available (required by /usr/bin/zsh)\n",
      "/usr/bin/zsh: /home/nashirj/miniconda3/lib/libtinfo.so.6: no version information available (required by /usr/bin/zsh)\n",
      "/usr/bin/zsh: /home/nashirj/miniconda3/lib/libtinfo.so.6: no version information available (required by /usr/bin/zsh)\n",
      "/usr/bin/zsh: /home/nashirj/miniconda3/lib/libtinfo.so.6: no version information available (required by /usr/bin/zsh)\n",
      "/usr/bin/zsh: /home/nashirj/miniconda3/lib/libtinfo.so.6: no version information available (required by /usr/bin/zsh)\n",
      "/usr/bin/zsh: /home/nashirj/miniconda3/lib/libtinfo.so.6: no version information available (required by /usr/bin/zsh)\n",
      "/usr/bin/zsh: /home/nashirj/miniconda3/lib/libtinfo.so.6: no version information available (required by /usr/bin/zsh)\n",
      "/usr/bin/zsh: /home/nashirj/miniconda3/lib/libtinfo.so.6: no version information available (required by /usr/bin/zsh)\n",
      "/usr/bin/zsh: /home/nashirj/miniconda3/lib/libtinfo.so.6: no version information available (required by /usr/bin/zsh)\n",
      "/usr/bin/zsh: /home/nashirj/miniconda3/lib/libtinfo.so.6: no version information available (required by /usr/bin/zsh)\n",
      "/usr/bin/zsh: /home/nashirj/miniconda3/lib/libtinfo.so.6: no version information available (required by /usr/bin/zsh)\n",
      "/usr/bin/zsh: /home/nashirj/miniconda3/lib/libtinfo.so.6: no version information available (required by /usr/bin/zsh)\n",
      "/usr/bin/zsh: /home/nashirj/miniconda3/lib/libtinfo.so.6: no version information available (required by /usr/bin/zsh)\n",
      "/usr/bin/zsh: /home/nashirj/miniconda3/lib/libtinfo.so.6: no version information available (required by /usr/bin/zsh)\n",
      "/usr/bin/zsh: /home/nashirj/miniconda3/lib/libtinfo.so.6: no version information available (required by /usr/bin/zsh)\n",
      "/usr/bin/zsh: /home/nashirj/miniconda3/lib/libtinfo.so.6: no version information available (required by /usr/bin/zsh)\n",
      "/usr/bin/zsh: /home/nashirj/miniconda3/lib/libtinfo.so.6: no version information available (required by /usr/bin/zsh)\n",
      "/usr/bin/zsh: /home/nashirj/miniconda3/lib/libtinfo.so.6: no version information available (required by /usr/bin/zsh)\n",
      "/usr/bin/zsh: /home/nashirj/miniconda3/lib/libtinfo.so.6: no version information available (required by /usr/bin/zsh)\n",
      "/usr/bin/zsh: /home/nashirj/miniconda3/lib/libtinfo.so.6: no version information available (required by /usr/bin/zsh)\n",
      "/usr/bin/zsh: /home/nashirj/miniconda3/lib/libtinfo.so.6: no version information available (required by /usr/bin/zsh)\n",
      "/usr/bin/zsh: /home/nashirj/miniconda3/lib/libtinfo.so.6: no version information available (required by /usr/bin/zsh)\n",
      "/usr/bin/zsh: /home/nashirj/miniconda3/lib/libtinfo.so.6: no version information available (required by /usr/bin/zsh)\n",
      "/usr/bin/zsh: /home/nashirj/miniconda3/lib/libtinfo.so.6: no version information available (required by /usr/bin/zsh)\n",
      "/usr/bin/zsh: /home/nashirj/miniconda3/lib/libtinfo.so.6: no version information available (required by /usr/bin/zsh)\n",
      "/usr/bin/zsh: /home/nashirj/miniconda3/lib/libtinfo.so.6: no version information available (required by /usr/bin/zsh)\n",
      "/usr/bin/zsh: /home/nashirj/miniconda3/lib/libtinfo.so.6: no version information available (required by /usr/bin/zsh)\n",
      "/usr/bin/zsh: /home/nashirj/miniconda3/lib/libtinfo.so.6: no version information available (required by /usr/bin/zsh)\n",
      "/usr/bin/zsh: /home/nashirj/miniconda3/lib/libtinfo.so.6: no version information available (required by /usr/bin/zsh)\n",
      "/usr/bin/zsh: /home/nashirj/miniconda3/lib/libtinfo.so.6: no version information available (required by /usr/bin/zsh)\n",
      "/usr/bin/zsh: /home/nashirj/miniconda3/lib/libtinfo.so.6: no version information available (required by /usr/bin/zsh)\n",
      "/usr/bin/zsh: /home/nashirj/miniconda3/lib/libtinfo.so.6: no version information available (required by /usr/bin/zsh)\n",
      "/usr/bin/zsh: /home/nashirj/miniconda3/lib/libtinfo.so.6: no version information available (required by /usr/bin/zsh)\n",
      "/usr/bin/zsh: /home/nashirj/miniconda3/lib/libtinfo.so.6: no version information available (required by /usr/bin/zsh)\n",
      "/usr/bin/zsh: /home/nashirj/miniconda3/lib/libtinfo.so.6: no version information available (required by /usr/bin/zsh)\n",
      "/usr/bin/zsh: /home/nashirj/miniconda3/lib/libtinfo.so.6: no version information available (required by /usr/bin/zsh)\n",
      "/usr/bin/zsh: /home/nashirj/miniconda3/lib/libtinfo.so.6: no version information available (required by /usr/bin/zsh)\n",
      "/usr/bin/zsh: /home/nashirj/miniconda3/lib/libtinfo.so.6: no version information available (required by /usr/bin/zsh)\n",
      "/usr/bin/zsh: /home/nashirj/miniconda3/lib/libtinfo.so.6: no version information available (required by /usr/bin/zsh)\n",
      "/usr/bin/zsh: /home/nashirj/miniconda3/lib/libtinfo.so.6: no version information available (required by /usr/bin/zsh)\n",
      "/usr/bin/zsh: /home/nashirj/miniconda3/lib/libtinfo.so.6: no version information available (required by /usr/bin/zsh)\n",
      "/usr/bin/zsh: /home/nashirj/miniconda3/lib/libtinfo.so.6: no version information available (required by /usr/bin/zsh)\n",
      "/usr/bin/zsh: /home/nashirj/miniconda3/lib/libtinfo.so.6: no version information available (required by /usr/bin/zsh)\n"
     ]
    }
   ],
   "source": [
    "for i, (img, label) in enumerate(zip(imgs, labels)):\n",
    "    if probs[i] > .8:  # ~ 70% for training\n",
    "        !cp {data_dir}/{img} {test_img_dir}\n",
    "        !cp {annot_dir}/{label} {test_label_dir}\n",
    "    else:\n",
    "        !cp {data_dir}/{img} {train_img_dir}\n",
    "        !cp {annot_dir}/{label} {train_label_dir}"
   ]
  },
  {
   "cell_type": "markdown",
   "id": "d53bc479-4fa8-41ae-8554-414e98140dfd",
   "metadata": {},
   "source": [
    "## Check that train and test dirs have same contents"
   ]
  },
  {
   "cell_type": "code",
   "execution_count": 20,
   "id": "70692c5b-c54d-4471-945c-eaff489a0e5e",
   "metadata": {},
   "outputs": [],
   "source": [
    "train_imgs = os.listdir(train_img_dir)\n",
    "train_labels = os.listdir(train_label_dir)\n",
    "test_imgs = os.listdir(test_img_dir)\n",
    "test_labels = os.listdir(test_label_dir)\n",
    "train_imgs.sort()\n",
    "train_labels.sort()\n",
    "test_imgs.sort()\n",
    "test_labels.sort()"
   ]
  },
  {
   "cell_type": "code",
   "execution_count": 21,
   "id": "2c0a815b-462d-4bde-aa04-af5357370b19",
   "metadata": {},
   "outputs": [],
   "source": [
    "for img, label in zip(train_imgs, train_labels):\n",
    "    if img[:-4] != label[:-4]:\n",
    "        print(img, label)\n",
    "for img, label in zip(test_imgs, test_labels):\n",
    "    if img[:-4] != label[:-4]:\n",
    "        print(img, label)"
   ]
  },
  {
   "cell_type": "code",
   "execution_count": 22,
   "id": "7380e938-e6e8-4a2d-a2df-68523e7e0345",
   "metadata": {},
   "outputs": [
    {
     "data": {
      "text/plain": [
       "(26, 7)"
      ]
     },
     "execution_count": 22,
     "metadata": {},
     "output_type": "execute_result"
    }
   ],
   "source": [
    "len(train_imgs), len(test_imgs)"
   ]
  }
 ],
 "metadata": {
  "kernelspec": {
   "display_name": "Python 3 (ipykernel)",
   "language": "python",
   "name": "python3"
  },
  "language_info": {
   "codemirror_mode": {
    "name": "ipython",
    "version": 3
   },
   "file_extension": ".py",
   "mimetype": "text/x-python",
   "name": "python",
   "nbconvert_exporter": "python",
   "pygments_lexer": "ipython3",
   "version": "3.10.6"
  }
 },
 "nbformat": 4,
 "nbformat_minor": 5
}
